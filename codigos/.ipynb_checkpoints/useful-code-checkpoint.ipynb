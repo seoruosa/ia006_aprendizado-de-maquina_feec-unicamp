{
 "cells": [
  {
   "cell_type": "markdown",
   "metadata": {},
   "source": [
    "# Learning how to use Numpy library"
   ]
  },
  {
   "cell_type": "markdown",
   "metadata": {},
   "source": [
    "Based on material find at:\n",
    "- http://cs231n.github.io/python-numpy-tutorial/#numpy"
   ]
  },
  {
   "cell_type": "code",
   "execution_count": 1,
   "metadata": {},
   "outputs": [
    {
     "name": "stdout",
     "output_type": "stream",
     "text": [
      "type(a): <class 'numpy.ndarray'>\n",
      "Shape of a: 3\n",
      "\n",
      "a= [1 2 3] where a[1]= 2 \n",
      "[1 2 4]\n"
     ]
    }
   ],
   "source": [
    "import numpy as np\n",
    "\n",
    "a = np.array([1,2,3])\n",
    "\n",
    "print(\"type(a): %s\" % type(a))\n",
    "print(\"Shape of a: %s\\n\" % a.shape)\n",
    "print(\"a= %s where a[1]= %s \" % (a,a[1]))\n",
    "\n",
    "a[2] = 4\n",
    "print(a)"
   ]
  },
  {
   "cell_type": "markdown",
   "metadata": {},
   "source": [
    "## Concatenate"
   ]
  },
  {
   "cell_type": "code",
   "execution_count": 2,
   "metadata": {},
   "outputs": [
    {
     "name": "stdout",
     "output_type": "stream",
     "text": [
      "[1 2 4 5 5 5]\n",
      "\n",
      " b => \n",
      "[[1 2 3]\n",
      " [4 5 6]]\n",
      "\n",
      " c => \n",
      "[[ 7  8  9]\n",
      " [10 11 12]]\n",
      "\n",
      "axis: 0 => \n",
      "[[ 1  2  3]\n",
      " [ 4  5  6]\n",
      " [ 7  8  9]\n",
      " [10 11 12]]\n",
      "\n",
      "axis: 1 => \n",
      "[[ 1  2  3  7  8  9]\n",
      " [ 4  5  6 10 11 12]]\n",
      "\n",
      "axis: None => \n",
      "[ 1  2  3  4  5  6  7  8  9 10 11 12]\n"
     ]
    }
   ],
   "source": [
    "## Concatenate\n",
    "# a[3] = 5 # dont work\n",
    "a_concat = np.concatenate((a,np.array([[5,5,5]])),axis=None) \n",
    "print(a_concat)\n",
    "\n",
    "b = np.array([[1, 2, 3],[4, 5, 6]])\n",
    "c = np.array([[7, 8, 9],[10, 11, 12]])\n",
    "\n",
    "print(\"\\n b => \\n%s\\n\\n c => \\n%s\" % (b,c))\n",
    "d = np.concatenate((b, c), axis=0)\n",
    "print(\"\\naxis: 0 => \\n%s\" % d)\n",
    "\n",
    "d = np.concatenate((b, c), axis=1)\n",
    "print(\"\\naxis: 1 => \\n%s\" % d)\n",
    "\n",
    "d = np.concatenate((b, c), axis=None)\n",
    "print(\"\\naxis: None => \\n%s\" % d)"
   ]
  },
  {
   "cell_type": "code",
   "execution_count": 3,
   "metadata": {},
   "outputs": [
    {
     "name": "stdout",
     "output_type": "stream",
     "text": [
      "zeros => \n",
      "[[0. 0.]\n",
      " [0. 0.]\n",
      " [0. 0.]]\n",
      "\n",
      "ones => \n",
      "[[1. 1. 1.]\n",
      " [1. 1. 1.]]\n",
      "\n",
      "constant => \n",
      "[[42 42]\n",
      " [42 42]\n",
      " [42 42]\n",
      " [42 42]]\n",
      "\n",
      "eye => \n",
      "[[1. 0. 0. 0. 0.]\n",
      " [0. 1. 0. 0. 0.]\n",
      " [0. 0. 1. 0. 0.]\n",
      " [0. 0. 0. 1. 0.]\n",
      " [0. 0. 0. 0. 1.]]\n",
      "\n",
      "random => \n",
      "[[0.74553834 0.97994452 0.65770489 0.61716748 0.58634569 0.79708631]]\n",
      "\n"
     ]
    }
   ],
   "source": [
    "#zeros\n",
    "print(\"zeros => \\n%s\\n\" % np.zeros((3,2)))\n",
    "\n",
    "#ones\n",
    "print(\"ones => \\n%s\\n\" % np.ones((2,3)))\n",
    "\n",
    "#constant\n",
    "print(\"constant => \\n%s\\n\" % np.full((4,2),42))\n",
    "\n",
    "#eye\n",
    "print(\"eye => \\n%s\\n\" % np.eye(5))\n",
    "\n",
    "#random\n",
    "print(\"random => \\n%s\\n\" % np.random.random((1,6)))"
   ]
  },
  {
   "cell_type": "markdown",
   "metadata": {},
   "source": [
    "## Slicing / Indexing"
   ]
  },
  {
   "cell_type": "code",
   "execution_count": 4,
   "metadata": {},
   "outputs": [
    {
     "name": "stdout",
     "output_type": "stream",
     "text": [
      "a =>\n",
      "[[ 1  2  3  4]\n",
      " [ 5  6  7  8]\n",
      " [ 9 10 11 12]]\n",
      "\n",
      "b =>\n",
      "[[ 6  7]\n",
      " [10 11]]\n",
      "\n",
      "[5 6 7 8]\n",
      "[[5 6 7 8]]\n"
     ]
    }
   ],
   "source": [
    "a = np.array([[1,2,3,4], [5,6,7,8], [9,10,11,12]])\n",
    "print(\"a =>\\n%s\\n\" % a)\n",
    "\n",
    "b = a[1:, 1:3]\n",
    "print(\"b =>\\n%s\\n\" % b)\n",
    "\n",
    "row_r1 = a[1, :]\n",
    "row_r2 = a[1:2, :]\n",
    "\n",
    "print(row_r1)\n",
    "print(row_r2)"
   ]
  },
  {
   "cell_type": "code",
   "execution_count": 11,
   "metadata": {},
   "outputs": [
    {
     "name": "stdout",
     "output_type": "stream",
     "text": [
      "a => \n",
      "[[1 2]\n",
      " [3 4]\n",
      " [5 6]]\n",
      "\n",
      "a[[0, 1, 2], [0, 1, 0]] == np.array([a[0, 0], a[1, 1], a[2, 0]]) => \n",
      "[1 4 5]\n",
      "\n",
      "[5 6]\n"
     ]
    }
   ],
   "source": [
    "a = np.array([[1,2], [3, 4], [5, 6]])\n",
    "\n",
    "print(\"a => \\n%s\\n\" % a)\n",
    "print(\"a[[0, 1, 2], [0, 1, 0]] == np.array([a[0, 0], a[1, 1], a[2, 0]]) => \\n%s\\n\" % a[[0, 1, 2], [0, 1, 0]])\n",
    "\n",
    "# select the fields a[2,0] and a[2,1]\n",
    "print(a[[2,2],[0,1]])"
   ]
  },
  {
   "cell_type": "markdown",
   "metadata": {},
   "source": [
    "### Trick with array indexing"
   ]
  },
  {
   "cell_type": "code",
   "execution_count": 22,
   "metadata": {},
   "outputs": [
    {
     "name": "stdout",
     "output_type": "stream",
     "text": [
      "b => \n",
      "[[ 1  2  3]\n",
      " [ 4  5  6]\n",
      " [ 7  8  9]\n",
      " [10 11 12]]\n",
      "\n",
      "[ 1  6  7 11]\n",
      "\n",
      "b modified => \n",
      "[[11  2  3]\n",
      " [ 4  5 16]\n",
      " [17  8  9]\n",
      " [10 21 12]]\n",
      "\n",
      "\n",
      " Comparing b>10 =>\n",
      "[11 16 17 21 12]\n",
      "\n"
     ]
    }
   ],
   "source": [
    "b = np.array([[1,2,3], [4,5,6], [7,8,9], [10, 11, 12]])\n",
    "\n",
    "print(\"b => \\n%s\\n\" % b)\n",
    "\n",
    "# Create an array of indices\n",
    "index = np.array([0, 2, 0, 1])\n",
    "\n",
    "print(b[np.arange(len(index)), index])\n",
    "\n",
    "b[np.arange(len(index)), index] += 10\n",
    "\n",
    "print(\"\\nb modified => \\n%s\\n\" % b)\n",
    "\n",
    "print(\"\\n Comparing b>10 =>\\n%s\\n\" % b[b>10])"
   ]
  },
  {
   "cell_type": "markdown",
   "metadata": {},
   "source": [
    "## Elementwise operations"
   ]
  },
  {
   "cell_type": "code",
   "execution_count": 27,
   "metadata": {},
   "outputs": [
    {
     "name": "stdout",
     "output_type": "stream",
     "text": [
      "x => \n",
      "[[1. 2.]\n",
      " [3. 4.]]\n",
      "\n",
      " y => \n",
      "[[5. 6.]\n",
      " [7. 8.]]\n",
      "\n",
      "x + y = \n",
      "[[ 6.  8.]\n",
      " [10. 12.]]\n",
      "\n",
      "x - y = \n",
      "[[-4. -4.]\n",
      " [-4. -4.]]\n",
      "\n",
      "x * y = \n",
      "[[ 5. 12.]\n",
      " [21. 32.]]\n",
      "\n",
      "x / y = \n",
      "[[0.2        0.33333333]\n",
      " [0.42857143 0.5       ]]\n",
      "\n",
      "x^-2 = \n",
      "[[1.         1.41421356]\n",
      " [1.73205081 2.        ]]\n",
      "\n"
     ]
    }
   ],
   "source": [
    "x = np.array([[1,2],[3,4]], dtype=np.float64)\n",
    "y = np.array([[5,6],[7,8]], dtype=np.float64)\n",
    "\n",
    "print(\"x => \\n%s\\n\\n y => \\n%s\\n\" % (x,y))\n",
    "\n",
    "# Sum\n",
    "print(\"x + y = \\n%s\\n\" % (x + y))\n",
    "\n",
    "# Difference\n",
    "print(\"x - y = \\n%s\\n\" % (x - y))\n",
    "\n",
    "# Multiplication\n",
    "print(\"x * y = \\n%s\\n\" % (x * y))\n",
    "\n",
    "# Division\n",
    "print(\"x / y = \\n%s\\n\" % (x / y))\n",
    "\n",
    "# Square root\n",
    "print(\"x^-2 = \\n%s\\n\" % (np.sqrt(x)))"
   ]
  },
  {
   "cell_type": "markdown",
   "metadata": {},
   "source": [
    "## Matrix multiplication"
   ]
  },
  {
   "cell_type": "code",
   "execution_count": 50,
   "metadata": {},
   "outputs": [
    {
     "name": "stdout",
     "output_type": "stream",
     "text": [
      "x =>\n",
      "[[1 2]\n",
      " [3 4]]\n",
      "\n",
      "y =>\n",
      "[[5 6]\n",
      " [7 8]]\n",
      "\n",
      "v =>\n",
      "[1 0]\n",
      "\n",
      "w =>\n",
      "[0 1]\n",
      "\n",
      "<v,w> = 0\n",
      "\n",
      "x v = \n",
      "[1 3]\n",
      "\n",
      "v^T x =\n",
      "[1 2]\n",
      "\n",
      "[1 2]\n"
     ]
    }
   ],
   "source": [
    "x = np.array([[1,2],[3,4]])\n",
    "y = np.array([[5,6],[7,8]])\n",
    "\n",
    "v = np.array([1,0])\n",
    "w = np.array([0, 1])\n",
    "\n",
    "print(\"x =>\\n%s\\n\" % x)\n",
    "print(\"y =>\\n%s\\n\" % y)\n",
    "print(\"v =>\\n%s\\n\" % v)\n",
    "print(\"w =>\\n%s\\n\" % w)\n",
    "\n",
    "# Inner product of vectors\n",
    "print(\"<v,w> = %s\\n\" % v.dot(w))\n",
    "# print(np.dot(v, w))\n",
    "\n",
    "# Matrix / vector product\n",
    "print(\"x v = \\n%s\\n\" % x.dot(v))\n",
    "# print(np.dot(x, v))\n",
    "\n",
    "print(\"v^T x =\\n%s\\n\" % v.dot(x))\n",
    "\n",
    "print(v@x)"
   ]
  },
  {
   "cell_type": "markdown",
   "metadata": {},
   "source": [
    "## Summation"
   ]
  },
  {
   "cell_type": "code",
   "execution_count": 52,
   "metadata": {},
   "outputs": [
    {
     "name": "stdout",
     "output_type": "stream",
     "text": [
      "Sum of all elements: \n",
      "21\n",
      "\n",
      "Sum of elements of each column: \n",
      "[5 7 9]\n",
      "\n",
      "Sum of elements of each row: \n",
      "[ 6 15]\n",
      "\n"
     ]
    }
   ],
   "source": [
    "x = np.array([[1,2,3],[4,5,6]])\n",
    "\n",
    "# Sum of all elements\n",
    "print(\"Sum of all elements: \\n%s\\n\" % np.sum(x))\n",
    "\n",
    "# Sum of elements of each column\n",
    "print(\"Sum of elements of each column: \\n%s\\n\" % np.sum(x, axis=0))\n",
    "\n",
    "# Sum of elements of each row\n",
    "print(\"Sum of elements of each row: \\n%s\\n\" % np.sum(x, axis=1))"
   ]
  },
  {
   "cell_type": "markdown",
   "metadata": {},
   "source": [
    "## Broadcasting\n",
    "\n",
    "Suppose that we need to sum v at each row of x, we can do this iterating over x (this can be slow for large matrix) or using the broadcasting:"
   ]
  },
  {
   "cell_type": "code",
   "execution_count": 84,
   "metadata": {},
   "outputs": [
    {
     "name": "stdout",
     "output_type": "stream",
     "text": [
      "x => \n",
      "[[ 1  2  3]\n",
      " [ 4  5  6]\n",
      " [ 7  8  9]\n",
      " [10 11 12]]\n",
      "\n",
      "v => \n",
      "[ 1  0 -1]\n",
      "\n",
      "vv => \n",
      "[[ 1  0 -1]\n",
      " [ 1  0 -1]\n",
      " [ 1  0 -1]\n",
      " [ 1  0 -1]]\n",
      "\n",
      "y = x + vv = \n",
      "[[ 2  2  2]\n",
      " [ 5  5  5]\n",
      " [ 8  8  8]\n",
      " [11 11 11]]\n",
      "\n",
      "Outer Product: \n",
      "[[ 4  5]\n",
      " [ 8 10]\n",
      " [12 15]]\n",
      "\n",
      "[[ 2  2  2]\n",
      " [ 5  5  5]\n",
      " [ 8  8  8]\n",
      " [11 11 11]]\n",
      "\n",
      "[[ 5  6  7]\n",
      " [ 9 10 11]]\n",
      "\n",
      "[41]\n"
     ]
    }
   ],
   "source": [
    "x = np.array([[1,2,3], [4,5,6], [7,8,9], [10, 11, 12]])\n",
    "v = np.array([1, 0, -1])\n",
    "\n",
    "print(\"x => \\n%s\\n\" % x)\n",
    "print(\"v => \\n%s\\n\" % v)\n",
    "\n",
    "# stack 4 copies of v\n",
    "vv = np.tile(v, (4, 1))\n",
    "\n",
    "print(\"vv => \\n%s\\n\" % vv)\n",
    "\n",
    "y = x + vv\n",
    "\n",
    "print(\"y = x + vv = \\n%s\\n\" % y)\n",
    "\n",
    "# Outer product\n",
    "\n",
    "v1 = np.array([1,2,3])  # v has shape (3,)\n",
    "w = np.array([4,5])    # w has shape (2,)\n",
    "\n",
    "print(\"Outer Product: \\n%s\\n\" % (np.reshape(v1, (3, 1)) * w))\n",
    "\n",
    "# Sum of matrix plus a vector for each row\n",
    "print(\"%s\\n\" % (x + v))\n",
    "\n",
    "h = np.array([[1,2,3],[4,5,6]])\n",
    "# Sum of matrix plus a vector for each column\n",
    "print(\"%s\\n\" % (h + np.reshape(w, (2,1))))\n",
    "\n"
   ]
  }
 ],
 "metadata": {
  "kernelspec": {
   "display_name": "Python 3",
   "language": "python",
   "name": "python3"
  },
  "language_info": {
   "codemirror_mode": {
    "name": "ipython",
    "version": 3
   },
   "file_extension": ".py",
   "mimetype": "text/x-python",
   "name": "python",
   "nbconvert_exporter": "python",
   "pygments_lexer": "ipython3",
   "version": "3.7.1"
  }
 },
 "nbformat": 4,
 "nbformat_minor": 2
}
