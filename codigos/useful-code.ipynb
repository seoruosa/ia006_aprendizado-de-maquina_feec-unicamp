{
 "cells": [
  {
   "cell_type": "markdown",
   "metadata": {},
   "source": [
    "# Learning how to use Numpy library"
   ]
  },
  {
   "cell_type": "code",
   "execution_count": 36,
   "metadata": {},
   "outputs": [
    {
     "name": "stdout",
     "output_type": "stream",
     "text": [
      "type(a): <class 'numpy.ndarray'>\n",
      "Shape of a: 3\n",
      "\n",
      "a= [1 2 3] where a[1]= 2 \n",
      "[1 2 4]\n"
     ]
    }
   ],
   "source": [
    "import numpy as np\n",
    "\n",
    "a = np.array([1,2,3])\n",
    "\n",
    "print(\"type(a): %s\" % type(a))\n",
    "print(\"Shape of a: %s\\n\" % a.shape)\n",
    "print(\"a= %s where a[1]= %s \" % (a,a[1]))\n",
    "\n",
    "a[2] = 4\n",
    "print(a)"
   ]
  },
  {
   "cell_type": "markdown",
   "metadata": {},
   "source": [
    "## Concatenate"
   ]
  },
  {
   "cell_type": "code",
   "execution_count": 53,
   "metadata": {},
   "outputs": [
    {
     "name": "stdout",
     "output_type": "stream",
     "text": [
      "[1 2 4 5 5 5]\n",
      "\n",
      " b => \n",
      "[[1 2 3]\n",
      " [4 5 6]]\n",
      "\n",
      " c => \n",
      "[[ 7  8  9]\n",
      " [10 11 12]]\n",
      "\n",
      "axis: 0 => \n",
      "[[ 1  2  3]\n",
      " [ 4  5  6]\n",
      " [ 7  8  9]\n",
      " [10 11 12]]\n",
      "\n",
      "axis: 1 => \n",
      "[[ 1  2  3  7  8  9]\n",
      " [ 4  5  6 10 11 12]]\n",
      "\n",
      "axis: None => \n",
      "[ 1  2  3  4  5  6  7  8  9 10 11 12]\n"
     ]
    }
   ],
   "source": [
    "## Concatenate\n",
    "# a[3] = 5 # dont work\n",
    "a_concat = np.concatenate((a,np.array([[5,5,5]])),axis=None) \n",
    "print(a_concat)\n",
    "\n",
    "b = np.array([[1, 2, 3],[4, 5, 6]])\n",
    "c = np.array([[7, 8, 9],[10, 11, 12]])\n",
    "\n",
    "print(\"\\n b => \\n%s\\n\\n c => \\n%s\" % (b,c))\n",
    "d = np.concatenate((b, c), axis=0)\n",
    "print(\"\\naxis: 0 => \\n%s\" % d)\n",
    "\n",
    "d = np.concatenate((b, c), axis=1)\n",
    "print(\"\\naxis: 1 => \\n%s\" % d)\n",
    "\n",
    "d = np.concatenate((b, c), axis=None)\n",
    "print(\"\\naxis: None => \\n%s\" % d)"
   ]
  },
  {
   "cell_type": "code",
   "execution_count": 66,
   "metadata": {},
   "outputs": [
    {
     "name": "stdout",
     "output_type": "stream",
     "text": [
      "zeros => \n",
      "[[0. 0.]\n",
      " [0. 0.]\n",
      " [0. 0.]]\n",
      "\n",
      "ones => \n",
      "[[1. 1. 1.]\n",
      " [1. 1. 1.]]\n",
      "\n",
      "constant => \n",
      "[[42 42]\n",
      " [42 42]\n",
      " [42 42]\n",
      " [42 42]]\n",
      "\n",
      "eye => \n",
      "[[1. 0. 0. 0. 0.]\n",
      " [0. 1. 0. 0. 0.]\n",
      " [0. 0. 1. 0. 0.]\n",
      " [0. 0. 0. 1. 0.]\n",
      " [0. 0. 0. 0. 1.]]\n",
      "\n",
      "random => \n",
      "[[0.80585175 0.79909639 0.4330635  0.02012077 0.97511953 0.93810794]]\n",
      "\n"
     ]
    }
   ],
   "source": [
    "#zeros\n",
    "print(\"zeros => \\n%s\\n\" % np.zeros((3,2)))\n",
    "\n",
    "#ones\n",
    "print(\"ones => \\n%s\\n\" % np.ones((2,3)))\n",
    "\n",
    "#constant\n",
    "print(\"constant => \\n%s\\n\" % np.full((4,2),42))\n",
    "\n",
    "#eye\n",
    "print(\"eye => \\n%s\\n\" % np.eye(5))\n",
    "\n",
    "#random\n",
    "print(\"random => \\n%s\\n\" % np.random.random((1,6)))"
   ]
  },
  {
   "cell_type": "markdown",
   "metadata": {},
   "source": [
    "## Slicing"
   ]
  },
  {
   "cell_type": "code",
   "execution_count": 77,
   "metadata": {},
   "outputs": [
    {
     "name": "stdout",
     "output_type": "stream",
     "text": [
      "a =>\n",
      "[[ 1  2  3  4]\n",
      " [ 5  6  7  8]\n",
      " [ 9 10 11 12]]\n",
      "\n",
      "b =>\n",
      "[[ 6  7]\n",
      " [10 11]]\n",
      "\n",
      "[5 6 7 8]\n",
      "[[5 6 7 8]]\n"
     ]
    }
   ],
   "source": [
    "a = np.array([[1,2,3,4], [5,6,7,8], [9,10,11,12]])\n",
    "print(\"a =>\\n%s\\n\" % a)\n",
    "\n",
    "b = a[1:, 1:3]\n",
    "print(\"b =>\\n%s\\n\" % b)\n",
    "\n",
    "row_r1 = a[1, :]\n",
    "row_r2 = a[1:2, :]\n",
    "\n",
    "print(row_r1)\n",
    "print(row_r2)"
   ]
  }
 ],
 "metadata": {
  "kernelspec": {
   "display_name": "Python 3",
   "language": "python",
   "name": "python3"
  },
  "language_info": {
   "codemirror_mode": {
    "name": "ipython",
    "version": 3
   },
   "file_extension": ".py",
   "mimetype": "text/x-python",
   "name": "python",
   "nbconvert_exporter": "python",
   "pygments_lexer": "ipython3",
   "version": "3.7.1"
  }
 },
 "nbformat": 4,
 "nbformat_minor": 2
}
